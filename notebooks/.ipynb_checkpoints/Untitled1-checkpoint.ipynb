{
 "cells": [
  {
   "cell_type": "code",
   "execution_count": 2,
   "id": "4e264d24-b79d-463f-987f-b446d1262714",
   "metadata": {
    "tags": []
   },
   "outputs": [],
   "source": [
    "import pandas as pd\n",
    "from sklearn.linear_model import LinearRegression\n",
    "from sklearn.model_selection import train_test_split\n",
    "import joblib"
   ]
  },
  {
   "cell_type": "code",
   "execution_count": 4,
   "id": "30b3a204-1596-4464-87e4-a550498d5ebb",
   "metadata": {
    "tags": []
   },
   "outputs": [],
   "source": [
    "# Simulated data\n",
    "data = pd.DataFrame({\n",
    "    'MarketPrice': [100000, 120000, 150000, 90000, 130000],\n",
    "    'MonthlyRent': [1000, 1100, 1300, 950, 1250],\n",
    "    'HasSolar': [1, 1, 0, 0, 1],\n",
    "    'HasRecycling': [1, 0, 1, 0, 1],\n",
    "    'HasSmartLock': [0, 1, 0, 1, 1],\n",
    "})\n",
    "data['AnnualRent'] = data['MonthlyRent'] * 12\n",
    "data['AnnualSavings'] = data['HasSolar']*40*12 + data['HasRecycling']*15*12 + data['HasSmartLock']*5*12\n",
    "data['ROI'] = ((data['AnnualRent'] + data['AnnualSavings']) / data['MarketPrice']) * 100"
   ]
  },
  {
   "cell_type": "code",
   "execution_count": 6,
   "id": "f26cf7f0-6a1c-4e8e-b52b-47d58be128f7",
   "metadata": {
    "tags": []
   },
   "outputs": [
    {
     "data": {
      "text/plain": [
       "['models/roi_predictor.pkl']"
      ]
     },
     "execution_count": 6,
     "metadata": {},
     "output_type": "execute_result"
    }
   ],
   "source": [
    "X = data[['MarketPrice', 'MonthlyRent', 'HasSolar', 'HasRecycling', 'HasSmartLock']]\n",
    "y = data['ROI']\n",
    "model = LinearRegression()\n",
    "model.fit(X, y)\n",
    "joblib.dump(model, 'models/roi_predictor.pkl')"
   ]
  },
  {
   "cell_type": "code",
   "execution_count": null,
   "id": "ffb545e1-0cd9-41ed-bb75-eb92606ebc74",
   "metadata": {},
   "outputs": [],
   "source": []
  }
 ],
 "metadata": {
  "kernelspec": {
   "display_name": "Python 3 (ipykernel)",
   "language": "python",
   "name": "python3"
  },
  "language_info": {
   "codemirror_mode": {
    "name": "ipython",
    "version": 3
   },
   "file_extension": ".py",
   "mimetype": "text/x-python",
   "name": "python",
   "nbconvert_exporter": "python",
   "pygments_lexer": "ipython3",
   "version": "3.11.7"
  }
 },
 "nbformat": 4,
 "nbformat_minor": 5
}
