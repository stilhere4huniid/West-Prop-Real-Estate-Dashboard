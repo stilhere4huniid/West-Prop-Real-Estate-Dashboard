{
 "cells": [
  {
   "cell_type": "markdown",
   "metadata": {},
   "source": [
    "# ROI Simulator – Smart Real Estate Intelligence Dashboard\n",
    "\n",
    "This notebook analyzes the impact of smart features (solar, water recycling, smart locks) on property ROI in Harare developments like Pomona and Millennium Heights.\n",
    "\n",
    "**Key Goals:**\n",
    "- Load and explore the real estate dataset\n",
    "- Calculate ROI per property\n",
    "- Compare ROI between properties with and without smart features\n",
    "- Visualize results\n"
   ]
  },
  {
   "cell_type": "code",
   "execution_count": 2,
   "metadata": {
    "tags": []
   },
   "outputs": [
    {
     "data": {
      "text/html": [
       "<div>\n",
       "<style scoped>\n",
       "    .dataframe tbody tr th:only-of-type {\n",
       "        vertical-align: middle;\n",
       "    }\n",
       "\n",
       "    .dataframe tbody tr th {\n",
       "        vertical-align: top;\n",
       "    }\n",
       "\n",
       "    .dataframe thead th {\n",
       "        text-align: right;\n",
       "    }\n",
       "</style>\n",
       "<table border=\"1\" class=\"dataframe\">\n",
       "  <thead>\n",
       "    <tr style=\"text-align: right;\">\n",
       "      <th></th>\n",
       "      <th>property_id</th>\n",
       "      <th>location</th>\n",
       "      <th>house_type</th>\n",
       "      <th>stand_size_m2</th>\n",
       "      <th>has_solar</th>\n",
       "      <th>has_water_recycling</th>\n",
       "      <th>has_smart_locks</th>\n",
       "      <th>monthly_utility_cost_usd</th>\n",
       "      <th>expected_rent_usd</th>\n",
       "      <th>market_price_usd</th>\n",
       "    </tr>\n",
       "  </thead>\n",
       "  <tbody>\n",
       "    <tr>\n",
       "      <th>0</th>\n",
       "      <td>PROP001</td>\n",
       "      <td>Avondale</td>\n",
       "      <td>Townhouse</td>\n",
       "      <td>1162</td>\n",
       "      <td>1</td>\n",
       "      <td>0</td>\n",
       "      <td>1</td>\n",
       "      <td>117.29</td>\n",
       "      <td>595.24</td>\n",
       "      <td>75600</td>\n",
       "    </tr>\n",
       "    <tr>\n",
       "      <th>1</th>\n",
       "      <td>PROP002</td>\n",
       "      <td>Gunhill</td>\n",
       "      <td>Apartment</td>\n",
       "      <td>1115</td>\n",
       "      <td>1</td>\n",
       "      <td>1</td>\n",
       "      <td>0</td>\n",
       "      <td>113.44</td>\n",
       "      <td>651.87</td>\n",
       "      <td>74700</td>\n",
       "    </tr>\n",
       "    <tr>\n",
       "      <th>2</th>\n",
       "      <td>PROP003</td>\n",
       "      <td>Marlborough</td>\n",
       "      <td>Apartment</td>\n",
       "      <td>570</td>\n",
       "      <td>1</td>\n",
       "      <td>1</td>\n",
       "      <td>0</td>\n",
       "      <td>82.54</td>\n",
       "      <td>560.86</td>\n",
       "      <td>51500</td>\n",
       "    </tr>\n",
       "    <tr>\n",
       "      <th>3</th>\n",
       "      <td>PROP004</td>\n",
       "      <td>Avondale</td>\n",
       "      <td>Townhouse</td>\n",
       "      <td>755</td>\n",
       "      <td>0</td>\n",
       "      <td>1</td>\n",
       "      <td>1</td>\n",
       "      <td>100.07</td>\n",
       "      <td>643.80</td>\n",
       "      <td>51900</td>\n",
       "    </tr>\n",
       "    <tr>\n",
       "      <th>4</th>\n",
       "      <td>PROP005</td>\n",
       "      <td>Mount Pleasant</td>\n",
       "      <td>Townhouse</td>\n",
       "      <td>761</td>\n",
       "      <td>0</td>\n",
       "      <td>1</td>\n",
       "      <td>1</td>\n",
       "      <td>145.68</td>\n",
       "      <td>766.38</td>\n",
       "      <td>57700</td>\n",
       "    </tr>\n",
       "  </tbody>\n",
       "</table>\n",
       "</div>"
      ],
      "text/plain": [
       "  property_id        location house_type  stand_size_m2  has_solar  \\\n",
       "0     PROP001        Avondale  Townhouse           1162          1   \n",
       "1     PROP002         Gunhill  Apartment           1115          1   \n",
       "2     PROP003     Marlborough  Apartment            570          1   \n",
       "3     PROP004        Avondale  Townhouse            755          0   \n",
       "4     PROP005  Mount Pleasant  Townhouse            761          0   \n",
       "\n",
       "   has_water_recycling  has_smart_locks  monthly_utility_cost_usd  \\\n",
       "0                    0                1                    117.29   \n",
       "1                    1                0                    113.44   \n",
       "2                    1                0                     82.54   \n",
       "3                    1                1                    100.07   \n",
       "4                    1                1                    145.68   \n",
       "\n",
       "   expected_rent_usd  market_price_usd  \n",
       "0             595.24             75600  \n",
       "1             651.87             74700  \n",
       "2             560.86             51500  \n",
       "3             643.80             51900  \n",
       "4             766.38             57700  "
      ]
     },
     "execution_count": 2,
     "metadata": {},
     "output_type": "execute_result"
    }
   ],
   "source": [
    "# Import libraries\n",
    "import pandas as pd\n",
    "import matplotlib.pyplot as plt\n",
    "import seaborn as sns\n",
    "\n",
    "# Load dataset\n",
    "df = pd.read_csv('../data/simulated_real_estate_prices.csv')\n",
    "\n",
    "# Display basic structure\n",
    "df.head()"
   ]
  },
  {
   "cell_type": "markdown",
   "metadata": {},
   "source": [
    "### Step 1: Calculate ROI\n",
    "\n",
    "`ROI = (Annual Rent / Market Price) * 100`\n",
    "We will compute this for each property and store it in a new column."
   ]
  },
  {
   "cell_type": "code",
   "execution_count": 4,
   "metadata": {
    "tags": []
   },
   "outputs": [
    {
     "data": {
      "text/html": [
       "<div>\n",
       "<style scoped>\n",
       "    .dataframe tbody tr th:only-of-type {\n",
       "        vertical-align: middle;\n",
       "    }\n",
       "\n",
       "    .dataframe tbody tr th {\n",
       "        vertical-align: top;\n",
       "    }\n",
       "\n",
       "    .dataframe thead th {\n",
       "        text-align: right;\n",
       "    }\n",
       "</style>\n",
       "<table border=\"1\" class=\"dataframe\">\n",
       "  <thead>\n",
       "    <tr style=\"text-align: right;\">\n",
       "      <th></th>\n",
       "      <th>property_id</th>\n",
       "      <th>roi_percent</th>\n",
       "    </tr>\n",
       "  </thead>\n",
       "  <tbody>\n",
       "    <tr>\n",
       "      <th>0</th>\n",
       "      <td>PROP001</td>\n",
       "      <td>9.448254</td>\n",
       "    </tr>\n",
       "    <tr>\n",
       "      <th>1</th>\n",
       "      <td>PROP002</td>\n",
       "      <td>10.471807</td>\n",
       "    </tr>\n",
       "    <tr>\n",
       "      <th>2</th>\n",
       "      <td>PROP003</td>\n",
       "      <td>13.068583</td>\n",
       "    </tr>\n",
       "    <tr>\n",
       "      <th>3</th>\n",
       "      <td>PROP004</td>\n",
       "      <td>14.885549</td>\n",
       "    </tr>\n",
       "    <tr>\n",
       "      <th>4</th>\n",
       "      <td>PROP005</td>\n",
       "      <td>15.938579</td>\n",
       "    </tr>\n",
       "  </tbody>\n",
       "</table>\n",
       "</div>"
      ],
      "text/plain": [
       "  property_id  roi_percent\n",
       "0     PROP001     9.448254\n",
       "1     PROP002    10.471807\n",
       "2     PROP003    13.068583\n",
       "3     PROP004    14.885549\n",
       "4     PROP005    15.938579"
      ]
     },
     "execution_count": 4,
     "metadata": {},
     "output_type": "execute_result"
    }
   ],
   "source": [
    "# Calculate ROI\n",
    "df['annual_rent'] = df['expected_rent_usd'] * 12\n",
    "df['roi_percent'] = (df['annual_rent'] / df['market_price_usd']) * 100\n",
    "df[['property_id', 'roi_percent']].head()"
   ]
  },
  {
   "cell_type": "markdown",
   "metadata": {},
   "source": [
    "### Step 2: Compare ROI by Smart Features\n",
    "We will look at average ROI across homes with and without smart features."
   ]
  },
  {
   "cell_type": "code",
   "execution_count": 7,
   "metadata": {
    "tags": []
   },
   "outputs": [
    {
     "name": "stdout",
     "output_type": "stream",
     "text": [
      "\n",
      "Average ROI by has_solar:\n",
      "has_solar\n",
      "0    13.091823\n",
      "1    14.355129\n",
      "Name: roi_percent, dtype: float64\n",
      "\n",
      "Average ROI by has_water_recycling:\n",
      "has_water_recycling\n",
      "0    15.164423\n",
      "1    12.737319\n",
      "Name: roi_percent, dtype: float64\n",
      "\n",
      "Average ROI by has_smart_locks:\n",
      "has_smart_locks\n",
      "0    14.434886\n",
      "1    12.234818\n",
      "Name: roi_percent, dtype: float64\n"
     ]
    }
   ],
   "source": [
    "# ROI comparison by feature\n",
    "features = ['has_solar', 'has_water_recycling', 'has_smart_locks']\n",
    "for feature in features:\n",
    "    print(f\"\\nAverage ROI by {feature}:\")\n",
    "    print(df.groupby(feature)['roi_percent'].mean())"
   ]
  },
  {
   "cell_type": "markdown",
   "metadata": {},
   "source": [
    "### Step 3: Visualization – ROI vs Smart Features"
   ]
  },
  {
   "cell_type": "code",
   "execution_count": 9,
   "metadata": {
    "tags": []
   },
   "outputs": [
    {
     "data": {
      "image/png": "[encoded data removed]",
      "text/plain": [
       "<Figure size 640x480 with 1 Axes>"
      ]
     },
     "metadata": {},
     "output_type": "display_data"
    }
   ],
   "source": [
    "# Plot ROI distribution\n",
    "sns.boxplot(data=df, x='has_solar', y='roi_percent')\n",
    "plt.title('ROI by Solar Installation')\n",
    "plt.xlabel('Has Solar')\n",
    "plt.ylabel('ROI (%)')\n",
    "plt.show()"
   ]
  },
  {
   "cell_type": "code",
   "execution_count": 11,
   "metadata": {
    "tags": []
   },
   "outputs": [
    {
     "data": {
      "image/png": "[encoded data removed]",
      "text/plain": [
       "<Figure size 640x480 with 1 Axes>"
      ]
     },
     "metadata": {},
     "output_type": "display_data"
    },
    {
     "data": {
      "image/png": "[encoded data removed]",
      "text/plain": [
       "<Figure size 640x480 with 1 Axes>"
      ]
     },
     "metadata": {},
     "output_type": "display_data"
    }
   ],
   "source": [
    "# Compare ROI by Water Recycling\n",
    "sns.boxplot(data=df, x='has_water_recycling', y='roi_percent')\n",
    "plt.title('ROI by Water Recycling')\n",
    "plt.xlabel('Has Water Recycling')\n",
    "plt.ylabel('ROI (%)')\n",
    "plt.show()\n",
    "\n",
    "# Compare ROI by Smart Locks\n",
    "sns.boxplot(data=df, x='has_smart_locks', y='roi_percent')\n",
    "plt.title('ROI by Smart Locks')\n",
    "plt.xlabel('Has Smart Locks')\n",
    "plt.ylabel('ROI (%)')\n",
    "plt.show()\n"
   ]
  },
  {
   "cell_type": "code",
   "execution_count": 13,
   "metadata": {
    "tags": []
   },
   "outputs": [
    {
     "data": {
      "text/html": [
       "<div>\n",
       "<style scoped>\n",
       "    .dataframe tbody tr th:only-of-type {\n",
       "        vertical-align: middle;\n",
       "    }\n",
       "\n",
       "    .dataframe tbody tr th {\n",
       "        vertical-align: top;\n",
       "    }\n",
       "\n",
       "    .dataframe thead th {\n",
       "        text-align: right;\n",
       "    }\n",
       "</style>\n",
       "<table border=\"1\" class=\"dataframe\">\n",
       "  <thead>\n",
       "    <tr style=\"text-align: right;\">\n",
       "      <th></th>\n",
       "      <th>property_id</th>\n",
       "      <th>monthly_savings_usd</th>\n",
       "      <th>annual_savings_usd</th>\n",
       "    </tr>\n",
       "  </thead>\n",
       "  <tbody>\n",
       "    <tr>\n",
       "      <th>0</th>\n",
       "      <td>PROP001</td>\n",
       "      <td>45</td>\n",
       "      <td>540</td>\n",
       "    </tr>\n",
       "    <tr>\n",
       "      <th>1</th>\n",
       "      <td>PROP002</td>\n",
       "      <td>55</td>\n",
       "      <td>660</td>\n",
       "    </tr>\n",
       "    <tr>\n",
       "      <th>2</th>\n",
       "      <td>PROP003</td>\n",
       "      <td>55</td>\n",
       "      <td>660</td>\n",
       "    </tr>\n",
       "    <tr>\n",
       "      <th>3</th>\n",
       "      <td>PROP004</td>\n",
       "      <td>20</td>\n",
       "      <td>240</td>\n",
       "    </tr>\n",
       "    <tr>\n",
       "      <th>4</th>\n",
       "      <td>PROP005</td>\n",
       "      <td>20</td>\n",
       "      <td>240</td>\n",
       "    </tr>\n",
       "  </tbody>\n",
       "</table>\n",
       "</div>"
      ],
      "text/plain": [
       "  property_id  monthly_savings_usd  annual_savings_usd\n",
       "0     PROP001                   45                 540\n",
       "1     PROP002                   55                 660\n",
       "2     PROP003                   55                 660\n",
       "3     PROP004                   20                 240\n",
       "4     PROP005                   20                 240"
      ]
     },
     "execution_count": 13,
     "metadata": {},
     "output_type": "execute_result"
    }
   ],
   "source": [
    "# Estimate monthly savings from each smart feature\n",
    "df['monthly_savings_usd'] = (\n",
    "    df['has_solar'] * 40 +\n",
    "    df['has_water_recycling'] * 15 +\n",
    "    df['has_smart_locks'] * 5\n",
    ")\n",
    "\n",
    "# Annual savings\n",
    "df['annual_savings_usd'] = df['monthly_savings_usd'] * 12\n",
    "\n",
    "# Show sample\n",
    "df[['property_id', 'monthly_savings_usd', 'annual_savings_usd']].head()\n"
   ]
  },
  {
   "cell_type": "code",
   "execution_count": 17,
   "metadata": {
    "tags": []
   },
   "outputs": [
    {
     "data": {
      "text/html": [
       "<div>\n",
       "<style scoped>\n",
       "    .dataframe tbody tr th:only-of-type {\n",
       "        vertical-align: middle;\n",
       "    }\n",
       "\n",
       "    .dataframe tbody tr th {\n",
       "        vertical-align: top;\n",
       "    }\n",
       "\n",
       "    .dataframe thead th {\n",
       "        text-align: right;\n",
       "    }\n",
       "</style>\n",
       "<table border=\"1\" class=\"dataframe\">\n",
       "  <thead>\n",
       "    <tr style=\"text-align: right;\">\n",
       "      <th></th>\n",
       "      <th>property_id</th>\n",
       "      <th>roi_percent</th>\n",
       "      <th>smart_roi_percent</th>\n",
       "    </tr>\n",
       "  </thead>\n",
       "  <tbody>\n",
       "    <tr>\n",
       "      <th>0</th>\n",
       "      <td>PROP001</td>\n",
       "      <td>9.448254</td>\n",
       "      <td>10.162540</td>\n",
       "    </tr>\n",
       "    <tr>\n",
       "      <th>1</th>\n",
       "      <td>PROP002</td>\n",
       "      <td>10.471807</td>\n",
       "      <td>11.355341</td>\n",
       "    </tr>\n",
       "    <tr>\n",
       "      <th>2</th>\n",
       "      <td>PROP003</td>\n",
       "      <td>13.068583</td>\n",
       "      <td>14.350136</td>\n",
       "    </tr>\n",
       "    <tr>\n",
       "      <th>3</th>\n",
       "      <td>PROP004</td>\n",
       "      <td>14.885549</td>\n",
       "      <td>15.347977</td>\n",
       "    </tr>\n",
       "    <tr>\n",
       "      <th>4</th>\n",
       "      <td>PROP005</td>\n",
       "      <td>15.938579</td>\n",
       "      <td>16.354523</td>\n",
       "    </tr>\n",
       "  </tbody>\n",
       "</table>\n",
       "</div>"
      ],
      "text/plain": [
       "  property_id  roi_percent  smart_roi_percent\n",
       "0     PROP001     9.448254          10.162540\n",
       "1     PROP002    10.471807          11.355341\n",
       "2     PROP003    13.068583          14.350136\n",
       "3     PROP004    14.885549          15.347977\n",
       "4     PROP005    15.938579          16.354523"
      ]
     },
     "execution_count": 17,
     "metadata": {},
     "output_type": "execute_result"
    }
   ],
   "source": [
    "# Smart ROI = (annual_rent + annual_savings) / market_price * 100\n",
    "df['smart_roi_percent'] = (\n",
    "    (df['annual_rent'] + df['annual_savings_usd']) / df['market_price_usd']\n",
    ") * 100\n",
    "\n",
    "# Preview\n",
    "df[['property_id', 'roi_percent', 'smart_roi_percent']].head()\n"
   ]
  },
  {
   "cell_type": "code",
   "execution_count": 19,
   "metadata": {
    "tags": []
   },
   "outputs": [
    {
     "data": {
      "image/png": "[encoded data removed]",
      "text/plain": [
       "<Figure size 800x500 with 1 Axes>"
      ]
     },
     "metadata": {},
     "output_type": "display_data"
    }
   ],
   "source": [
    "# Visualize traditional vs smart ROI\n",
    "import matplotlib.pyplot as plt\n",
    "\n",
    "roi_avg = df[['roi_percent', 'smart_roi_percent']].mean()\n",
    "\n",
    "plt.figure(figsize=(8, 5))\n",
    "plt.bar(['Traditional ROI', 'Smart ROI'], roi_avg, color=['#1f77b4', '#ff7f0e'])\n",
    "plt.title('Average Traditional ROI vs Smart ROI')\n",
    "plt.ylabel('ROI (%)')\n",
    "plt.ylim(0, max(roi_avg) + 5)\n",
    "plt.grid(axis='y', linestyle='--', alpha=0.7)\n",
    "plt.show()\n"
   ]
  },
  {
   "cell_type": "code",
   "execution_count": 23,
   "metadata": {
    "jupyter": {
     "source_hidden": true
    },
    "tags": []
   },
   "outputs": [
    {
     "data": {
      "text/html": [
       "<div>\n",
       "<style scoped>\n",
       "    .dataframe tbody tr th:only-of-type {\n",
       "        vertical-align: middle;\n",
       "    }\n",
       "\n",
       "    .dataframe tbody tr th {\n",
       "        vertical-align: top;\n",
       "    }\n",
       "\n",
       "    .dataframe thead th {\n",
       "        text-align: right;\n",
       "    }\n",
       "</style>\n",
       "<table border=\"1\" class=\"dataframe\">\n",
       "  <thead>\n",
       "    <tr style=\"text-align: right;\">\n",
       "      <th></th>\n",
       "      <th>property_id</th>\n",
       "      <th>annual_savings_usd</th>\n",
       "      <th>lifetime_savings_5yr</th>\n",
       "      <th>lifetime_savings_10yr</th>\n",
       "    </tr>\n",
       "  </thead>\n",
       "  <tbody>\n",
       "    <tr>\n",
       "      <th>0</th>\n",
       "      <td>PROP001</td>\n",
       "      <td>540</td>\n",
       "      <td>2700</td>\n",
       "      <td>5400</td>\n",
       "    </tr>\n",
       "    <tr>\n",
       "      <th>1</th>\n",
       "      <td>PROP002</td>\n",
       "      <td>660</td>\n",
       "      <td>3300</td>\n",
       "      <td>6600</td>\n",
       "    </tr>\n",
       "    <tr>\n",
       "      <th>2</th>\n",
       "      <td>PROP003</td>\n",
       "      <td>660</td>\n",
       "      <td>3300</td>\n",
       "      <td>6600</td>\n",
       "    </tr>\n",
       "    <tr>\n",
       "      <th>3</th>\n",
       "      <td>PROP004</td>\n",
       "      <td>240</td>\n",
       "      <td>1200</td>\n",
       "      <td>2400</td>\n",
       "    </tr>\n",
       "    <tr>\n",
       "      <th>4</th>\n",
       "      <td>PROP005</td>\n",
       "      <td>240</td>\n",
       "      <td>1200</td>\n",
       "      <td>2400</td>\n",
       "    </tr>\n",
       "  </tbody>\n",
       "</table>\n",
       "</div>"
      ],
      "text/plain": [
       "  property_id  annual_savings_usd  lifetime_savings_5yr  lifetime_savings_10yr\n",
       "0     PROP001                 540                  2700                   5400\n",
       "1     PROP002                 660                  3300                   6600\n",
       "2     PROP003                 660                  3300                   6600\n",
       "3     PROP004                 240                  1200                   2400\n",
       "4     PROP005                 240                  1200                   2400"
      ]
     },
     "execution_count": 23,
     "metadata": {},
     "output_type": "execute_result"
    }
   ],
   "source": [
    "# Lifetime Savings Projections\n",
    "df['lifetime_savings_5yr'] = df['annual_savings_usd'] * 5\n",
    "df['lifetime_savings_10yr'] = df['annual_savings_usd'] * 10\n",
    "\n",
    "# Preview\n",
    "df[['property_id', 'annual_savings_usd', 'lifetime_savings_5yr', 'lifetime_savings_10yr']].head()\n"
   ]
  },
  {
   "cell_type": "code",
   "execution_count": 25,
   "metadata": {
    "tags": []
   },
   "outputs": [
    {
     "data": {
      "text/html": [
       "<div>\n",
       "<style scoped>\n",
       "    .dataframe tbody tr th:only-of-type {\n",
       "        vertical-align: middle;\n",
       "    }\n",
       "\n",
       "    .dataframe tbody tr th {\n",
       "        vertical-align: top;\n",
       "    }\n",
       "\n",
       "    .dataframe thead th {\n",
       "        text-align: right;\n",
       "    }\n",
       "</style>\n",
       "<table border=\"1\" class=\"dataframe\">\n",
       "  <thead>\n",
       "    <tr style=\"text-align: right;\">\n",
       "      <th></th>\n",
       "      <th>Metric</th>\n",
       "    </tr>\n",
       "  </thead>\n",
       "  <tbody>\n",
       "    <tr>\n",
       "      <th>Average Traditional ROI (%)</th>\n",
       "      <td>13.950871</td>\n",
       "    </tr>\n",
       "    <tr>\n",
       "      <th>Average Smart ROI (%)</th>\n",
       "      <td>14.736119</td>\n",
       "    </tr>\n",
       "    <tr>\n",
       "      <th>Average Annual Savings (USD)</th>\n",
       "      <td>429.600000</td>\n",
       "    </tr>\n",
       "    <tr>\n",
       "      <th>Average 10-Year Savings (USD)</th>\n",
       "      <td>4296.000000</td>\n",
       "    </tr>\n",
       "    <tr>\n",
       "      <th>% with Solar</th>\n",
       "      <td>68.000000</td>\n",
       "    </tr>\n",
       "    <tr>\n",
       "      <th>% with Water Recycling</th>\n",
       "      <td>50.000000</td>\n",
       "    </tr>\n",
       "    <tr>\n",
       "      <th>% with Smart Locks</th>\n",
       "      <td>22.000000</td>\n",
       "    </tr>\n",
       "  </tbody>\n",
       "</table>\n",
       "</div>"
      ],
      "text/plain": [
       "                                    Metric\n",
       "Average Traditional ROI (%)      13.950871\n",
       "Average Smart ROI (%)            14.736119\n",
       "Average Annual Savings (USD)    429.600000\n",
       "Average 10-Year Savings (USD)  4296.000000\n",
       "% with Solar                     68.000000\n",
       "% with Water Recycling           50.000000\n",
       "% with Smart Locks               22.000000"
      ]
     },
     "execution_count": 25,
     "metadata": {},
     "output_type": "execute_result"
    }
   ],
   "source": [
    "summary = {\n",
    "    'Average Traditional ROI (%)': df['roi_percent'].mean(),\n",
    "    'Average Smart ROI (%)': df['smart_roi_percent'].mean(),\n",
    "    'Average Annual Savings (USD)': df['annual_savings_usd'].mean(),\n",
    "    'Average 10-Year Savings (USD)': df['lifetime_savings_10yr'].mean(),\n",
    "    '% with Solar': df['has_solar'].mean() * 100,\n",
    "    '% with Water Recycling': df['has_water_recycling'].mean() * 100,\n",
    "    '% with Smart Locks': df['has_smart_locks'].mean() * 100\n",
    "}\n",
    "\n",
    "import pandas as pd\n",
    "pd.DataFrame(summary, index=['Metric']).T\n"
   ]
  },
  {
   "cell_type": "code",
   "execution_count": null,
   "metadata": {},
   "outputs": [],
   "source": []
  }
 ],
 "metadata": {
  "kernelspec": {
   "display_name": "Python 3 (ipykernel)",
   "language": "python",
   "name": "python3"
  },
  "language_info": {
   "codemirror_mode": {
    "name": "ipython",
    "version": 3
   },
   "file_extension": ".py",
   "mimetype": "text/x-python",
   "name": "python",
   "nbconvert_exporter": "python",
   "pygments_lexer": "ipython3",
   "version": "3.11.7"
  }
 },
 "nbformat": 4,
 "nbformat_minor": 4
}
