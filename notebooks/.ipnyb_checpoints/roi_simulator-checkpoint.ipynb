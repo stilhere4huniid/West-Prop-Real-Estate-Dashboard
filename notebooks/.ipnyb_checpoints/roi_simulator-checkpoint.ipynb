{
 "cells": [
  {
   "cell_type": "markdown",
   "metadata": {},
   "source": [
    "# ROI Simulator – Smart Real Estate Intelligence Dashboard\n",
    "\n",
    "This notebook analyzes the impact of smart features (solar, water recycling, smart locks) on property ROI in Harare developments like Pomona and Millennium Heights.\n",
    "\n",
    "**Key Goals:**\n",
    "- Load and explore the real estate dataset\n",
    "- Calculate ROI per property\n",
    "- Compare ROI between properties with and without smart features\n",
    "- Visualize results\n"
   ]
  },
  {
   "cell_type": "code",
   "execution_count": 2,
   "metadata": {
    "tags": []
   },
   "outputs": [
    {
     "data": {
      "text/html": [
       "<div>\n",
       "<style scoped>\n",
       "    .dataframe tbody tr th:only-of-type {\n",
       "        vertical-align: middle;\n",
       "    }\n",
       "\n",
       "    .dataframe tbody tr th {\n",
       "        vertical-align: top;\n",
       "    }\n",
       "\n",
       "    .dataframe thead th {\n",
       "        text-align: right;\n",
       "    }\n",
       "</style>\n",
       "<table border=\"1\" class=\"dataframe\">\n",
       "  <thead>\n",
       "    <tr style=\"text-align: right;\">\n",
       "      <th></th>\n",
       "      <th>property_id</th>\n",
       "      <th>location</th>\n",
       "      <th>house_type</th>\n",
       "      <th>stand_size_m2</th>\n",
       "      <th>has_solar</th>\n",
       "      <th>has_water_recycling</th>\n",
       "      <th>has_smart_locks</th>\n",
       "      <th>monthly_utility_cost_usd</th>\n",
       "      <th>expected_rent_usd</th>\n",
       "      <th>market_price_usd</th>\n",
       "    </tr>\n",
       "  </thead>\n",
       "  <tbody>\n",
       "    <tr>\n",
       "      <th>0</th>\n",
       "      <td>PROP001</td>\n",
       "      <td>Avondale</td>\n",
       "      <td>Townhouse</td>\n",
       "      <td>1162</td>\n",
       "      <td>1</td>\n",
       "      <td>0</td>\n",
       "      <td>1</td>\n",
       "      <td>117.29</td>\n",
       "      <td>595.24</td>\n",
       "      <td>75600</td>\n",
       "    </tr>\n",
       "    <tr>\n",
       "      <th>1</th>\n",
       "      <td>PROP002</td>\n",
       "      <td>Gunhill</td>\n",
       "      <td>Apartment</td>\n",
       "      <td>1115</td>\n",
       "      <td>1</td>\n",
       "      <td>1</td>\n",
       "      <td>0</td>\n",
       "      <td>113.44</td>\n",
       "      <td>651.87</td>\n",
       "      <td>74700</td>\n",
       "    </tr>\n",
       "    <tr>\n",
       "      <th>2</th>\n",
       "      <td>PROP003</td>\n",
       "      <td>Marlborough</td>\n",
       "      <td>Apartment</td>\n",
       "      <td>570</td>\n",
       "      <td>1</td>\n",
       "      <td>1</td>\n",
       "      <td>0</td>\n",
       "      <td>82.54</td>\n",
       "      <td>560.86</td>\n",
       "      <td>51500</td>\n",
       "    </tr>\n",
       "    <tr>\n",
       "      <th>3</th>\n",
       "      <td>PROP004</td>\n",
       "      <td>Avondale</td>\n",
       "      <td>Townhouse</td>\n",
       "      <td>755</td>\n",
       "      <td>0</td>\n",
       "      <td>1</td>\n",
       "      <td>1</td>\n",
       "      <td>100.07</td>\n",
       "      <td>643.80</td>\n",
       "      <td>51900</td>\n",
       "    </tr>\n",
       "    <tr>\n",
       "      <th>4</th>\n",
       "      <td>PROP005</td>\n",
       "      <td>Mount Pleasant</td>\n",
       "      <td>Townhouse</td>\n",
       "      <td>761</td>\n",
       "      <td>0</td>\n",
       "      <td>1</td>\n",
       "      <td>1</td>\n",
       "      <td>145.68</td>\n",
       "      <td>766.38</td>\n",
       "      <td>57700</td>\n",
       "    </tr>\n",
       "  </tbody>\n",
       "</table>\n",
       "</div>"
      ],
      "text/plain": [
       "  property_id        location house_type  stand_size_m2  has_solar  \\\n",
       "0     PROP001        Avondale  Townhouse           1162          1   \n",
       "1     PROP002         Gunhill  Apartment           1115          1   \n",
       "2     PROP003     Marlborough  Apartment            570          1   \n",
       "3     PROP004        Avondale  Townhouse            755          0   \n",
       "4     PROP005  Mount Pleasant  Townhouse            761          0   \n",
       "\n",
       "   has_water_recycling  has_smart_locks  monthly_utility_cost_usd  \\\n",
       "0                    0                1                    117.29   \n",
       "1                    1                0                    113.44   \n",
       "2                    1                0                     82.54   \n",
       "3                    1                1                    100.07   \n",
       "4                    1                1                    145.68   \n",
       "\n",
       "   expected_rent_usd  market_price_usd  \n",
       "0             595.24             75600  \n",
       "1             651.87             74700  \n",
       "2             560.86             51500  \n",
       "3             643.80             51900  \n",
       "4             766.38             57700  "
      ]
     },
     "execution_count": 2,
     "metadata": {},
     "output_type": "execute_result"
    }
   ],
   "source": [
    "# Import libraries\n",
    "import pandas as pd\n",
    "import matplotlib.pyplot as plt\n",
    "import seaborn as sns\n",
    "\n",
    "# Load dataset\n",
    "df = pd.read_csv('../data/simulated_real_estate_prices.csv')\n",
    "\n",
    "# Display basic structure\n",
    "df.head()"
   ]
  },
  {
   "cell_type": "markdown",
   "metadata": {},
   "source": [
    "### Step 1: Calculate ROI\n",
    "\n",
    "`ROI = (Annual Rent / Market Price) * 100`\n",
    "We will compute this for each property and store it in a new column."
   ]
  },
  {
   "cell_type": "code",
   "execution_count": 4,
   "metadata": {
    "tags": []
   },
   "outputs": [
    {
     "data": {
      "text/html": [
       "<div>\n",
       "<style scoped>\n",
       "    .dataframe tbody tr th:only-of-type {\n",
       "        vertical-align: middle;\n",
       "    }\n",
       "\n",
       "    .dataframe tbody tr th {\n",
       "        vertical-align: top;\n",
       "    }\n",
       "\n",
       "    .dataframe thead th {\n",
       "        text-align: right;\n",
       "    }\n",
       "</style>\n",
       "<table border=\"1\" class=\"dataframe\">\n",
       "  <thead>\n",
       "    <tr style=\"text-align: right;\">\n",
       "      <th></th>\n",
       "      <th>property_id</th>\n",
       "      <th>roi_percent</th>\n",
       "    </tr>\n",
       "  </thead>\n",
       "  <tbody>\n",
       "    <tr>\n",
       "      <th>0</th>\n",
       "      <td>PROP001</td>\n",
       "      <td>9.448254</td>\n",
       "    </tr>\n",
       "    <tr>\n",
       "      <th>1</th>\n",
       "      <td>PROP002</td>\n",
       "      <td>10.471807</td>\n",
       "    </tr>\n",
       "    <tr>\n",
       "      <th>2</th>\n",
       "      <td>PROP003</td>\n",
       "      <td>13.068583</td>\n",
       "    </tr>\n",
       "    <tr>\n",
       "      <th>3</th>\n",
       "      <td>PROP004</td>\n",
       "      <td>14.885549</td>\n",
       "    </tr>\n",
       "    <tr>\n",
       "      <th>4</th>\n",
       "      <td>PROP005</td>\n",
       "      <td>15.938579</td>\n",
       "    </tr>\n",
       "  </tbody>\n",
       "</table>\n",
       "</div>"
      ],
      "text/plain": [
       "  property_id  roi_percent\n",
       "0     PROP001     9.448254\n",
       "1     PROP002    10.471807\n",
       "2     PROP003    13.068583\n",
       "3     PROP004    14.885549\n",
       "4     PROP005    15.938579"
      ]
     },
     "execution_count": 4,
     "metadata": {},
     "output_type": "execute_result"
    }
   ],
   "source": [
    "# Calculate ROI\n",
    "df['annual_rent'] = df['expected_rent_usd'] * 12\n",
    "df['roi_percent'] = (df['annual_rent'] / df['market_price_usd']) * 100\n",
    "df[['property_id', 'roi_percent']].head()"
   ]
  },
  {
   "cell_type": "markdown",
   "metadata": {},
   "source": [
    "### Step 2: Compare ROI by Smart Features\n",
    "We will look at average ROI across homes with and without smart features."
   ]
  },
  {
   "cell_type": "code",
   "execution_count": 7,
   "metadata": {
    "tags": []
   },
   "outputs": [
    {
     "name": "stdout",
     "output_type": "stream",
     "text": [
      "\n",
      "Average ROI by has_solar:\n",
      "has_solar\n",
      "0    13.091823\n",
      "1    14.355129\n",
      "Name: roi_percent, dtype: float64\n",
      "\n",
      "Average ROI by has_water_recycling:\n",
      "has_water_recycling\n",
      "0    15.164423\n",
      "1    12.737319\n",
      "Name: roi_percent, dtype: float64\n",
      "\n",
      "Average ROI by has_smart_locks:\n",
      "has_smart_locks\n",
      "0    14.434886\n",
      "1    12.234818\n",
      "Name: roi_percent, dtype: float64\n"
     ]
    }
   ],
   "source": [
    "# ROI comparison by feature\n",
    "features = ['has_solar', 'has_water_recycling', 'has_smart_locks']\n",
    "for feature in features:\n",
    "    print(f\"\\nAverage ROI by {feature}:\")\n",
    "    print(df.groupby(feature)['roi_percent'].mean())"
   ]
  },
  {
   "cell_type": "markdown",
   "metadata": {},
   "source": [
    "### Step 3: Visualization – ROI vs Smart Features"
   ]
  },
  {
   "cell_type": "code",
   "execution_count": 9,
   "metadata": {
    "tags": []
   },
   "outputs": [
    {
     "data": {
      "image/png": "[encoded data removed]",
      "text/plain": [
       "<Figure size 640x480 with 1 Axes>"
      ]
     },
     "metadata": {},
     "output_type": "display_data"
    }
   ],
   "source": [
    "# Plot ROI distribution\n",
    "sns.boxplot(data=df, x='has_solar', y='roi_percent')\n",
    "plt.title('ROI by Solar Installation')\n",
    "plt.xlabel('Has Solar')\n",
    "plt.ylabel('ROI (%)')\n",
    "plt.show()"
   ]
  },
  {
   "cell_type": "code",
   "execution_count": null,
   "metadata": {},
   "outputs": [],
   "source": []
  }
 ],
 "metadata": {
  "kernelspec": {
   "display_name": "Python 3 (ipykernel)",
   "language": "python",
   "name": "python3"
  },
  "language_info": {
   "codemirror_mode": {
    "name": "ipython",
    "version": 3
   },
   "file_extension": ".py",
   "mimetype": "text/x-python",
   "name": "python",
   "nbconvert_exporter": "python",
   "pygments_lexer": "ipython3",
   "version": "3.11.7"
  }
 },
 "nbformat": 4,
 "nbformat_minor": 4
}
