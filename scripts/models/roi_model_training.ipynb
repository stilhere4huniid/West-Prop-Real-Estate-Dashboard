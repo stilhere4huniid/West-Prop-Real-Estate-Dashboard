
{
 "cells": [
  {
   "cell_type": "markdown",
   "metadata": {},
   "source": [
    "# ROI Prediction Model (Trained with scikit-learn)"
   ]
  },
  {
   "cell_type": "code",
   "execution_count": null,
   "metadata": {},
   "outputs": [],
   "source": [
    "import pandas as pd\n",
    "from sklearn.linear_model import LinearRegression\n",
    "from sklearn.model_selection import train_test_split\n",
    "import joblib"
   ]
  },
  {
   "cell_type": "markdown",
   "metadata": {},
   "source": [
    "## Load and Prepare Data"
   ]
  },
  {
   "cell_type": "code",
   "execution_count": null,
   "metadata": {},
   "outputs": [],
   "source": [
    "# Simulated data\n",
    "data = pd.DataFrame({\n",
    "    'MarketPrice': [100000, 120000, 150000, 90000, 130000],\n",
    "    'MonthlyRent': [1000, 1100, 1300, 950, 1250],\n",
    "    'HasSolar': [1, 1, 0, 0, 1],\n",
    "    'HasRecycling': [1, 0, 1, 0, 1],\n",
    "    'HasSmartLock': [0, 1, 0, 1, 1],\n",
    "})\n",
    "data['AnnualRent'] = data['MonthlyRent'] * 12\n",
    "data['AnnualSavings'] = data['HasSolar']*40*12 + data['HasRecycling']*15*12 + data['HasSmartLock']*5*12\n",
    "data['ROI'] = ((data['AnnualRent'] + data['AnnualSavings']) / data['MarketPrice']) * 100"
   ]
  },
  {
   "cell_type": "markdown",
   "metadata": {},
   "source": [
    "## Train the Model"
   ]
  },
  {
   "cell_type": "code",
   "execution_count": null,
   "metadata": {},
   "outputs": [],
   "source": [
    "X = data[['MarketPrice', 'MonthlyRent', 'HasSolar', 'HasRecycling', 'HasSmartLock']]\n",
    "y = data['ROI']\n",
    "model = LinearRegression()\n",
    "model.fit(X, y)\n",
    "joblib.dump(model, 'models/roi_predictor.pkl')"
   ]
  }
 ],
 "metadata": {
  "kernelspec": {
   "display_name": "Python 3",
   "language": "python",
   "name": "python3"
  },
  "language_info": {
   "name": "python",
   "version": "3.9"
  }
 },
 "nbformat": 4,
 "nbformat_minor": 2
}
